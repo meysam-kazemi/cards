{
  "cells": [
    {
      "cell_type": "code",
      "source": [
        "a = [1,1,2,3,4,5,6,6,6,6,2]\n",
        "a.count(8)"
      ],
      "metadata": {
        "colab": {
          "base_uri": "https://localhost:8080/"
        },
        "id": "qfehX2WophIN",
        "outputId": "7b475540-4373-4541-e494-d68ce23da0b7"
      },
      "execution_count": 106,
      "outputs": [
        {
          "output_type": "execute_result",
          "data": {
            "text/plain": [
              "0"
            ]
          },
          "metadata": {},
          "execution_count": 106
        }
      ]
    },
    {
      "cell_type": "code",
      "source": [
        "class groupCards:\n",
        "  def __init__(self):\n",
        "    self.card_numbers = {\n",
        "        '2':0,'3':1,'4':2,'5':3,'6':4,'7':5,'8':6,'9':7,'10':8,\n",
        "        'J':9,'Q':10,'K':11,'A':12\n",
        "    }\n",
        "    self.card_numbers_invert = {v:k for k, v in self.card_numbers.items()}\n",
        "\n",
        "    self.straight_sets = self._create_straight_sets()\n",
        "\n",
        "  def __call__(self, players_cards, floor_cards):\n",
        "    self.players_cards = players_cards\n",
        "    self.floor_cards = floor_cards\n",
        "    self.all_floor_cards = sum(players_cards.values(), [])\n",
        "    self.max()\n",
        "\n",
        "  def _create_straight_sets(self):\n",
        "    nums = list(self.card_numbers.values())\n",
        "    st = []\n",
        "    for i in range(len(nums)-5,-1,-1):  # Sorted from maximum straight\n",
        "      s = []\n",
        "      for j in range(i,i+5):\n",
        "        s.append(nums[j])\n",
        "      st.append(set(s))\n",
        "    st.append({12,0,1,2,3})  # Ace,2,3,4,5\n",
        "    return st\n",
        "\n",
        "  def set_number_to_cards_value(self, c):\n",
        "    return self.card_numbers[c[1:]]\n",
        "\n",
        "  def max(self):\n",
        "    cards = [card[1:] for card in self.all_floor_cards]\n",
        "    maximum = max([self.card_numbers[card] for card in cards])\n",
        "    self.players_max = [card for card in self.all_floor_cards if self.card_numbers[card[1:]] == maximum]\n",
        "\n",
        "  def high_cards(self, players_cards):\n",
        "    winners = []\n",
        "    for player, cards in players_cards.items():\n",
        "      for card in cards:\n",
        "        if card in self.players_max:\n",
        "          winners.append(player)\n",
        "    return winners\n",
        "\n",
        "  def check_high_card(self):\n",
        "    winners = self.high_cards(self.players_cards)\n",
        "    for _ in range(4):\n",
        "      new_cards = {player:self.players_cards[player] for player in winners}\n",
        "      winners = self.high_cards(new_cards)\n",
        "    return winners[0]\n",
        "\n",
        "  def one_pair_for_a_player(self, player_card):\n",
        "    player_card_with_floor_cards = player_card+self.floor_cards\n",
        "    numbers = [c[1:] for c in player_card_with_floor_cards]\n",
        "    for i, n in enumerate(numbers[:-1]):\n",
        "      if n in numbers[i+1:]:\n",
        "        return True, n\n",
        "    return False, None\n",
        "\n",
        "  def check_one_pair(self):\n",
        "    pair_cards_ = {'player1':None, 'player2':None, 'player3':None, 'player4':None}\n",
        "    for p, cards in self.players_cards.items():\n",
        "      ispair, pair_card = self.one_pair_for_a_player(cards)\n",
        "      if ispair:\n",
        "        pair_cards_[p] = pair_card\n",
        "    pair_cards = {}\n",
        "    for p, c in pair_cards_.items():\n",
        "      if c is not None:\n",
        "        pair_cards[p] = c\n",
        "    del pair_cards_\n",
        "    if pair_cards:\n",
        "      return max(pair_cards, key=lambda x: self.card_numbers[pair_cards[x]])\n",
        "    else:\n",
        "      return None\n",
        "\n",
        "  def two_pairs_for_a_player(self, player_card):\n",
        "    player_card_with_floor_cards = player_card+self.floor_cards\n",
        "    numbers = [c[1:] for c in player_card_with_floor_cards]\n",
        "    count = {}\n",
        "    for num in numbers:\n",
        "      if num in count:\n",
        "        count[num] += 1\n",
        "      else:\n",
        "        count[num] = 1\n",
        "    pairs = [num for num, cnt in count.items() if cnt >= 2]\n",
        "    if len(pairs)==2:\n",
        "      return True, pairs\n",
        "    else:\n",
        "      return False, None\n",
        "\n",
        "  def check_two_pairs(self):\n",
        "    pair_cards_ = {'player1':None, 'player2':None, 'player3':None, 'player4':None}\n",
        "    for p, cards in self.players_cards.items():\n",
        "      ispair, pair_card = self.two_pairs_for_a_player(cards)\n",
        "      if ispair:\n",
        "        pair_cards_[p] = pair_card\n",
        "    pair_cards = {}\n",
        "    for p, c in pair_cards_.items():\n",
        "      if c is not None:\n",
        "        pair_cards[p] = c\n",
        "    del pair_cards_\n",
        "    if pair_cards:\n",
        "      maximum = max(sum(pair_cards.values(), []))\n",
        "      for p, c in pair_cards.items():\n",
        "        if maximum in c:\n",
        "          return p\n",
        "    else:\n",
        "      return None\n",
        "\n",
        "  def three_of_a_kind_for_a_player(self, player_card):\n",
        "    player_card_with_floor_cards = player_card+self.floor_cards\n",
        "    numbers = [c[1:] for c in player_card_with_floor_cards]\n",
        "    count = {}\n",
        "    for num in numbers:\n",
        "      if num in count:\n",
        "        count[num] += 1\n",
        "      else:\n",
        "        count[num] = 1\n",
        "    pairs = [num for num, cnt in count.items() if cnt >= 3]\n",
        "    if len(pairs):\n",
        "      return True, pairs[0]\n",
        "    else:\n",
        "      return False, None\n",
        "\n",
        "  def check_three_of_a_kind(self):\n",
        "    pair_cards_ = {'player1':None, 'player2':None, 'player3':None, 'player4':None}\n",
        "    for p, cards in self.players_cards.items():\n",
        "      ispair, pair_card = self.three_of_a_kind_for_a_player(cards)\n",
        "      if ispair:\n",
        "        pair_cards_[p] = pair_card\n",
        "    pair_cards = {}\n",
        "    for p, c in pair_cards_.items():\n",
        "      if c is not None:\n",
        "        pair_cards[p] = c\n",
        "    del pair_cards_\n",
        "    if pair_cards:\n",
        "      return max(pair_cards, key=lambda x: self.card_numbers[pair_cards[x]])\n",
        "    else:\n",
        "      return None\n",
        "\n",
        "  def straight_for_a_player(self, player_card):\n",
        "    player_card_with_floor_cards = player_card+self.floor_cards\n",
        "    numbers = sorted([self.card_numbers[c[1:]] for c in player_card_with_floor_cards])\n",
        "\n",
        "    for st in self.straight_sets:\n",
        "      if st.issubset(numbers):\n",
        "        if st=={12,0,1,2,3}:  # Ace,2,3,4,5\n",
        "          return True, 3\n",
        "        return True, max(st)\n",
        "    return False, None\n",
        "\n",
        "  def check_straight(self):\n",
        "    straight_cards_ = {'player1':None, 'player2':None, 'player3':None, 'player4':None}\n",
        "    for p, cards in self.players_cards.items():\n",
        "      ispair, straight_card = self.straight_for_a_player(cards)\n",
        "      if ispair:\n",
        "        straight_cards_[p] = straight_card\n",
        "    straight_cards = {}\n",
        "    for p, c in straight_cards_.items():\n",
        "      if c is not None:\n",
        "        straight_cards[p] = c\n",
        "    del straight_cards_\n",
        "    if straight_cards:\n",
        "      return max(straight_cards, key=lambda x: straight_cards[x])\n",
        "    else:\n",
        "      return None\n",
        "\n",
        "  def flush_for_a_player(self, player_card):\n",
        "    player_card_with_floor_cards = player_card+self.floor_cards\n",
        "    groups = [c[0] for c in player_card_with_floor_cards]\n",
        "    print(groups)\n",
        "    for g in [\"C\", \"D\", \"S\", \"H\"]:\n",
        "      if groups.count(g)>=5:\n",
        "        maximum = max([self.card_numbers[c[1:]] for c in player_card_with_floor_cards if c.startswith(g)])\n",
        "        return True, maximum\n",
        "\n",
        "    return False, None"
      ],
      "metadata": {
        "id": "fGlKy5ElgS0N"
      },
      "execution_count": 122,
      "outputs": []
    },
    {
      "cell_type": "code",
      "execution_count": 123,
      "metadata": {
        "id": "sI_nrWfSdgFT"
      },
      "outputs": [],
      "source": [
        "group_cards = groupCards()\n",
        "cards = {\n",
        "    'player1' : [\"C2\", 'CA'],\n",
        "    'player2' : [\"C5\", 'C5'],\n",
        "    'player3' : [\"C7\", 'C8'],\n",
        "    'player4' : [\"C2\", 'C6'],\n",
        "}\n",
        "group_cards(cards, ['C4', 'C5', 'C3'])"
      ]
    },
    {
      "cell_type": "code",
      "source": [
        "# group_cards.flush_for_a_player(cards['player1'])\n",
        "# group_cards.check_straight()"
      ],
      "metadata": {
        "colab": {
          "base_uri": "https://localhost:8080/"
        },
        "id": "GK0laDIvAHK8",
        "outputId": "686bac82-d586-4727-9ab7-863f0dfa66fc"
      },
      "execution_count": 125,
      "outputs": [
        {
          "output_type": "stream",
          "name": "stdout",
          "text": [
            "['C', 'C', 'C', 'C', 'C']\n"
          ]
        },
        {
          "output_type": "execute_result",
          "data": {
            "text/plain": [
              "(True, 12)"
            ]
          },
          "metadata": {},
          "execution_count": 125
        }
      ]
    },
    {
      "cell_type": "code",
      "source": [
        "group_cards.straight_sets"
      ],
      "metadata": {
        "colab": {
          "base_uri": "https://localhost:8080/"
        },
        "id": "DISkfnbHTzmv",
        "outputId": "6635ac0b-83e4-4ca7-b354-e762bc750b58"
      },
      "execution_count": 98,
      "outputs": [
        {
          "output_type": "execute_result",
          "data": {
            "text/plain": [
              "[{8, 9, 10, 11, 12},\n",
              " {7, 8, 9, 10, 11},\n",
              " {6, 7, 8, 9, 10},\n",
              " {5, 6, 7, 8, 9},\n",
              " {4, 5, 6, 7, 8},\n",
              " {3, 4, 5, 6, 7},\n",
              " {2, 3, 4, 5, 6},\n",
              " {1, 2, 3, 4, 5},\n",
              " {0, 1, 2, 3, 4},\n",
              " {0, 1, 2, 3, 12}]"
            ]
          },
          "metadata": {},
          "execution_count": 98
        }
      ]
    },
    {
      "cell_type": "code",
      "source": [],
      "metadata": {
        "id": "ygFmkcXISEYF"
      },
      "execution_count": null,
      "outputs": []
    },
    {
      "cell_type": "code",
      "source": [
        "card_numbers = {\n",
        "        '2':2,'3':3,'4':4,'5':5,'6':6,'7':7,'8':8,'9':9,'10':10,\n",
        "        'J':11,'Q':12,'K':13,'A':14}\n",
        "\n",
        "c = {\n",
        "    'player1' : [4, 5],\n",
        "    'player2' : [6, 7],\n",
        "    'player3' : [8, 2],\n",
        "    'player4' : [1, 1],\n",
        "}\n",
        "max(c, key=c.get)"
      ],
      "metadata": {
        "id": "_LCK7mmQpAU7",
        "colab": {
          "base_uri": "https://localhost:8080/",
          "height": 35
        },
        "outputId": "4b3a7883-c9c2-4fa6-881f-79b0d221acdb"
      },
      "execution_count": null,
      "outputs": [
        {
          "output_type": "execute_result",
          "data": {
            "text/plain": [
              "'player3'"
            ],
            "application/vnd.google.colaboratory.intrinsic+json": {
              "type": "string"
            }
          },
          "metadata": {},
          "execution_count": 135
        }
      ]
    },
    {
      "cell_type": "code",
      "source": [
        "max([1,2],[3,4])"
      ],
      "metadata": {
        "id": "rHMIsWmUpAYz",
        "colab": {
          "base_uri": "https://localhost:8080/"
        },
        "outputId": "d39f70d7-66e5-4637-f74c-1a6ff611f0b8"
      },
      "execution_count": null,
      "outputs": [
        {
          "output_type": "execute_result",
          "data": {
            "text/plain": [
              "[3, 4]"
            ]
          },
          "metadata": {},
          "execution_count": 74
        }
      ]
    },
    {
      "cell_type": "code",
      "execution_count": null,
      "metadata": {
        "colab": {
          "base_uri": "https://localhost:8080/",
          "height": 297
        },
        "id": "dhH_kWRDdgFU",
        "outputId": "17aa6235-6532-4aa6-8427-a6552d83b073"
      },
      "outputs": [
        {
          "output_type": "error",
          "ename": "ValueError",
          "evalue": "['C5', 'C9', 'CK', 'CA', 'CK', 'CA', 'CK', 'CA', 'CK', 'CA'] is not in list",
          "traceback": [
            "\u001b[0;31m---------------------------------------------------------------------------\u001b[0m",
            "\u001b[0;31mValueError\u001b[0m                                Traceback (most recent call last)",
            "\u001b[0;32m<ipython-input-17-e664307e70c8>\u001b[0m in \u001b[0;36m<cell line: 8>\u001b[0;34m()\u001b[0m\n\u001b[1;32m      6\u001b[0m   \u001b[0mwinner\u001b[0m \u001b[0;34m=\u001b[0m \u001b[0;34m[\u001b[0m\u001b[0mk\u001b[0m \u001b[0;32mfor\u001b[0m \u001b[0mk\u001b[0m\u001b[0;34m,\u001b[0m\u001b[0mv\u001b[0m \u001b[0;32min\u001b[0m \u001b[0mcards\u001b[0m\u001b[0;34m.\u001b[0m\u001b[0mitems\u001b[0m\u001b[0;34m(\u001b[0m\u001b[0;34m)\u001b[0m \u001b[0;32mif\u001b[0m \u001b[0mmax_card\u001b[0m \u001b[0;32min\u001b[0m \u001b[0mv\u001b[0m\u001b[0;34m]\u001b[0m\u001b[0;34m\u001b[0m\u001b[0;34m\u001b[0m\u001b[0m\n\u001b[1;32m      7\u001b[0m   \u001b[0;32mreturn\u001b[0m \u001b[0mwinner\u001b[0m\u001b[0;34m\u001b[0m\u001b[0;34m\u001b[0m\u001b[0m\n\u001b[0;32m----> 8\u001b[0;31m \u001b[0mhigh_card\u001b[0m\u001b[0;34m(\u001b[0m\u001b[0mcards\u001b[0m\u001b[0;34m)\u001b[0m\u001b[0;34m\u001b[0m\u001b[0;34m\u001b[0m\u001b[0m\n\u001b[0m",
            "\u001b[0;32m<ipython-input-17-e664307e70c8>\u001b[0m in \u001b[0;36mhigh_card\u001b[0;34m(cards)\u001b[0m\n\u001b[1;32m      3\u001b[0m \u001b[0;34m\u001b[0m\u001b[0m\n\u001b[1;32m      4\u001b[0m   \u001b[0mall_floor_cards\u001b[0m \u001b[0;34m=\u001b[0m \u001b[0msum\u001b[0m\u001b[0;34m(\u001b[0m\u001b[0mcards\u001b[0m\u001b[0;34m.\u001b[0m\u001b[0mvalues\u001b[0m\u001b[0;34m(\u001b[0m\u001b[0;34m)\u001b[0m\u001b[0;34m,\u001b[0m \u001b[0;34m[\u001b[0m\u001b[0;34m]\u001b[0m\u001b[0;34m)\u001b[0m\u001b[0;34m\u001b[0m\u001b[0;34m\u001b[0m\u001b[0m\n\u001b[0;32m----> 5\u001b[0;31m   \u001b[0mmax_card\u001b[0m \u001b[0;34m=\u001b[0m \u001b[0mnums\u001b[0m\u001b[0;34m.\u001b[0m\u001b[0mindex\u001b[0m\u001b[0;34m(\u001b[0m\u001b[0mall_floor_cards\u001b[0m\u001b[0;34m[\u001b[0m\u001b[0;36m1\u001b[0m\u001b[0;34m:\u001b[0m\u001b[0;34m]\u001b[0m\u001b[0;34m)\u001b[0m\u001b[0;34m\u001b[0m\u001b[0;34m\u001b[0m\u001b[0m\n\u001b[0m\u001b[1;32m      6\u001b[0m   \u001b[0mwinner\u001b[0m \u001b[0;34m=\u001b[0m \u001b[0;34m[\u001b[0m\u001b[0mk\u001b[0m \u001b[0;32mfor\u001b[0m \u001b[0mk\u001b[0m\u001b[0;34m,\u001b[0m\u001b[0mv\u001b[0m \u001b[0;32min\u001b[0m \u001b[0mcards\u001b[0m\u001b[0;34m.\u001b[0m\u001b[0mitems\u001b[0m\u001b[0;34m(\u001b[0m\u001b[0;34m)\u001b[0m \u001b[0;32mif\u001b[0m \u001b[0mmax_card\u001b[0m \u001b[0;32min\u001b[0m \u001b[0mv\u001b[0m\u001b[0;34m]\u001b[0m\u001b[0;34m\u001b[0m\u001b[0;34m\u001b[0m\u001b[0m\n\u001b[1;32m      7\u001b[0m   \u001b[0;32mreturn\u001b[0m \u001b[0mwinner\u001b[0m\u001b[0;34m\u001b[0m\u001b[0;34m\u001b[0m\u001b[0m\n",
            "\u001b[0;31mValueError\u001b[0m: ['C5', 'C9', 'CK', 'CA', 'CK', 'CA', 'CK', 'CA', 'CK', 'CA'] is not in list"
          ]
        }
      ],
      "source": [
        "# high card\n",
        "def high_card(cards):\n",
        "\n",
        "  all_floor_cards = sum(cards.values(), [])\n",
        "\n",
        "  winner = [k for k,v in cards.items() if max_card in v]\n",
        "  return winner\n",
        "high_card(cards)"
      ]
    },
    {
      "cell_type": "code",
      "execution_count": null,
      "metadata": {
        "colab": {
          "base_uri": "https://localhost:8080/"
        },
        "id": "Wu2wcwtrdgFU",
        "outputId": "d82b7a66-81e3-49e5-e41e-c5d69d5c1faa"
      },
      "outputs": [
        {
          "output_type": "execute_result",
          "data": {
            "text/plain": [
              "['C2', 'C5', 'C9', 'CK', 'CA', 'CK', 'CA', 'CK', 'CA', 'CK', 'CA']"
            ]
          },
          "metadata": {},
          "execution_count": 9
        }
      ],
      "source": []
    },
    {
      "cell_type": "code",
      "execution_count": null,
      "metadata": {
        "colab": {
          "base_uri": "https://localhost:8080/"
        },
        "id": "EsizqLicdgFV",
        "outputId": "9db673d9-24b9-4e9d-f3bc-ddc2efce34f3"
      },
      "outputs": [
        {
          "output_type": "execute_result",
          "data": {
            "text/plain": [
              "[1, 2, 3, 4, 5]"
            ]
          },
          "metadata": {},
          "execution_count": 12
        }
      ],
      "source": [
        "sum([[1,2,3],[4,5]],[])"
      ]
    },
    {
      "cell_type": "code",
      "execution_count": null,
      "metadata": {
        "id": "OhbYT5Z6dgFV"
      },
      "outputs": [],
      "source": []
    },
    {
      "cell_type": "code",
      "execution_count": null,
      "metadata": {
        "id": "WpOA8fHGdgFW"
      },
      "outputs": [],
      "source": []
    },
    {
      "cell_type": "code",
      "execution_count": null,
      "metadata": {
        "id": "oQSyIKPPdgFW"
      },
      "outputs": [],
      "source": []
    },
    {
      "cell_type": "code",
      "execution_count": null,
      "metadata": {
        "id": "6ZyVTAiEdgFW"
      },
      "outputs": [],
      "source": []
    },
    {
      "cell_type": "code",
      "execution_count": null,
      "metadata": {
        "id": "i6NZEfkKdgFW"
      },
      "outputs": [],
      "source": []
    },
    {
      "cell_type": "code",
      "execution_count": null,
      "metadata": {
        "id": "3QPEep71dgFW"
      },
      "outputs": [],
      "source": []
    },
    {
      "cell_type": "code",
      "execution_count": null,
      "metadata": {
        "id": "DKMMgDANdgFW"
      },
      "outputs": [],
      "source": []
    },
    {
      "cell_type": "code",
      "execution_count": null,
      "metadata": {
        "id": "kQ5K5HxYdgFX"
      },
      "outputs": [],
      "source": []
    },
    {
      "cell_type": "code",
      "execution_count": null,
      "metadata": {
        "id": "6yR3ShI3dgFX"
      },
      "outputs": [],
      "source": []
    },
    {
      "cell_type": "code",
      "execution_count": null,
      "metadata": {
        "id": "iEHdHGl0dgFX"
      },
      "outputs": [],
      "source": []
    },
    {
      "cell_type": "code",
      "execution_count": null,
      "metadata": {
        "id": "BtGubgAqdgFX"
      },
      "outputs": [],
      "source": []
    }
  ],
  "metadata": {
    "kernelspec": {
      "display_name": "Python 3",
      "language": "python",
      "name": "python3"
    },
    "language_info": {
      "codemirror_mode": {
        "name": "ipython",
        "version": 3
      },
      "file_extension": ".py",
      "mimetype": "text/x-python",
      "name": "python",
      "nbconvert_exporter": "python",
      "pygments_lexer": "ipython3",
      "version": "3.10.14"
    },
    "colab": {
      "provenance": []
    }
  },
  "nbformat": 4,
  "nbformat_minor": 0
}