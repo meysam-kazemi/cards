{
  "cells": [
    {
      "cell_type": "code",
      "execution_count": null,
      "metadata": {
        "id": "Xz8QuHJQdgFM"
      },
      "outputs": [],
      "source": [
        "import numpy as np"
      ]
    },
    {
      "cell_type": "code",
      "execution_count": null,
      "metadata": {
        "id": "nnrJO-evdgFR"
      },
      "outputs": [],
      "source": [
        "nums = ['2','3','4','5','6','7','8','9','10','J','Q','K','A']"
      ]
    },
    {
      "cell_type": "code",
      "source": [
        "class groupCards:\n",
        "  def __init__(self):\n",
        "    self.card_numbers = {\n",
        "        '2':2,'3':3,'4':4,'5':5,'6':6,'7':7,'8':8,'9':9,'10':10,\n",
        "        'J':11,'Q':12,'K':13,'A':14\n",
        "    }\n",
        "    self.clubs = [\"C\"+n for n in self.card_numbers.keys()]\n",
        "    self.hearts = [\"H\"+n for n in self.card_numbers.keys()]\n",
        "    self.diamonds = [\"D\"+n for n in self.card_numbers.keys()]\n",
        "    self.spades = [\"S\"+n for n in self.card_numbers.keys()]\n",
        "\n",
        "  def __call__(self, players_cards, floor_cards):\n",
        "    self.players_cards = players_cards\n",
        "    self.floor_cards = floor_cards\n",
        "    self.all_floor_cards = sum(players_cards.values(), [])\n",
        "    self.max()\n",
        "\n",
        "  def set_number_to_cards_value(self, c):\n",
        "    return self.card_numbers[c[1:]]\n",
        "\n",
        "  def max(self):\n",
        "    cards = [card[1:] for card in self.all_floor_cards]\n",
        "    maximum = max([self.card_numbers[card] for card in cards])\n",
        "    self.players_max = [card for card in self.all_floor_cards if self.card_numbers[card[1:]] == maximum]\n",
        "\n",
        "  def high_cards(self, players_cards):\n",
        "    winners = []\n",
        "    for player, cards in players_cards.items():\n",
        "      for card in cards:\n",
        "        if card in self.players_max:\n",
        "          winners.append(player)\n",
        "    return winners\n",
        "\n",
        "  def check_high_card(self):\n",
        "    winners = self.high_cards(self.players_cards)\n",
        "    for _ in range(4):\n",
        "      new_cards = {player:self.players_cards[player] for player in winners}\n",
        "      winners = self.high_cards(new_cards)\n",
        "    return winners[0]\n",
        "\n",
        "  def one_pair_for_a_player(self, player_card):\n",
        "    player_card_with_floor_cards = player_card+self.floor_cards\n",
        "    numbers = [c[1:] for c in player_card_with_floor_cards]\n",
        "    for i, n in enumerate(numbers[:-1]):\n",
        "      if n in numbers[i+1:]:\n",
        "        return True, n\n",
        "    return False, None\n",
        "\n",
        "  def check_one_pair(self):\n",
        "    pair_cards_ = {'player1':None, 'player2':None, 'player3':None, 'player4':None}\n",
        "    for p, cards in self.players_cards.items():\n",
        "      ispair, pair_card = self.one_pair_for_a_player(cards)\n",
        "      if ispair:\n",
        "        pair_cards_[p] = pair_card\n",
        "    pair_cards = {}\n",
        "    for p, c in pair_cards_.items():\n",
        "      if c is not None:\n",
        "        pair_cards[p] = c\n",
        "    del pair_cards_\n",
        "    if pair_cards:\n",
        "      return max(pair_cards, key=lambda x: self.card_numbers[pair_cards[x]])\n",
        "\n",
        "  def two_pairs_for_a_player(self, player_card):\n",
        "    player_card_with_floor_cards = player_card+self.floor_cards\n",
        "    numbers = [c[1:] for c in player_card_with_floor_cards]\n",
        "    count = {}\n",
        "    for num in numbers:\n",
        "      if num in count:\n",
        "        count[num] += 1\n",
        "      else:\n",
        "        count[num] = 1\n",
        "    pairs = [num for num, cnt in count.items() if cnt >= 2]\n",
        "    if len(pairs)==2:\n",
        "      return True, pairs\n",
        "    else:\n",
        "      return False, None\n",
        "\n",
        "  def check_two_pairs(self):\n",
        "    pair_cards_ = {'player1':None, 'player2':None, 'player3':None, 'player4':None}\n",
        "    for p, cards in self.players_cards.items():\n",
        "      ispair, pair_card = self.two_pairs_for_a_player(cards)\n",
        "      if ispair:\n",
        "        pair_cards_[p] = pair_card\n",
        "    pair_cards = {}\n",
        "    for p, c in pair_cards_.items():\n",
        "      if c is not None:\n",
        "        pair_cards[p] = c\n",
        "    del pair_cards_\n",
        "    if pair_cards:\n",
        "      maximum = max(sum(pair_cards.values(), []))\n",
        "      for p, c in pair_cards.items():\n",
        "        if maximum in c:\n",
        "          return p\n",
        "\n",
        "\n",
        "\n"
      ],
      "metadata": {
        "id": "fGlKy5ElgS0N"
      },
      "execution_count": 22,
      "outputs": []
    },
    {
      "cell_type": "code",
      "execution_count": 33,
      "metadata": {
        "id": "sI_nrWfSdgFT"
      },
      "outputs": [],
      "source": [
        "group_cards = groupCards()\n",
        "cards = {\n",
        "    'player1' : [\"C2\", 'C9'],\n",
        "    'player2' : [\"C6\", 'CJ'],\n",
        "    'player3' : [\"C2\", 'CK'],\n",
        "    'player4' : [\"C2\", 'CJ'],\n",
        "}\n",
        "group_cards(cards, ['C2', 'CJ', 'C9'])"
      ]
    },
    {
      "cell_type": "code",
      "source": [
        "group_cards.check_two_pairs()"
      ],
      "metadata": {
        "colab": {
          "base_uri": "https://localhost:8080/",
          "height": 36
        },
        "id": "GK0laDIvAHK8",
        "outputId": "a2a15d2d-f209-4123-8331-ea2d86d44a68"
      },
      "execution_count": 34,
      "outputs": [
        {
          "output_type": "execute_result",
          "data": {
            "text/plain": [
              "'player4'"
            ],
            "application/vnd.google.colaboratory.intrinsic+json": {
              "type": "string"
            }
          },
          "metadata": {},
          "execution_count": 34
        }
      ]
    },
    {
      "cell_type": "code",
      "source": [
        "a = {'player2': 'K', 'player3': 'K'}\n",
        "max(a, key=lambda x: card_numbers[a[x]])"
      ],
      "metadata": {
        "colab": {
          "base_uri": "https://localhost:8080/",
          "height": 228
        },
        "id": "DISkfnbHTzmv",
        "outputId": "c130f7e0-3d1e-41ea-9e08-91a15b0405fa"
      },
      "execution_count": 19,
      "outputs": [
        {
          "output_type": "error",
          "ename": "NameError",
          "evalue": "name 'card_numbers' is not defined",
          "traceback": [
            "\u001b[0;31m---------------------------------------------------------------------------\u001b[0m",
            "\u001b[0;31mNameError\u001b[0m                                 Traceback (most recent call last)",
            "\u001b[0;32m<ipython-input-19-fb8b165ef0a2>\u001b[0m in \u001b[0;36m<cell line: 2>\u001b[0;34m()\u001b[0m\n\u001b[1;32m      1\u001b[0m \u001b[0ma\u001b[0m \u001b[0;34m=\u001b[0m \u001b[0;34m{\u001b[0m\u001b[0;34m'player2'\u001b[0m\u001b[0;34m:\u001b[0m \u001b[0;34m'K'\u001b[0m\u001b[0;34m,\u001b[0m \u001b[0;34m'player3'\u001b[0m\u001b[0;34m:\u001b[0m \u001b[0;34m'K'\u001b[0m\u001b[0;34m}\u001b[0m\u001b[0;34m\u001b[0m\u001b[0;34m\u001b[0m\u001b[0m\n\u001b[0;32m----> 2\u001b[0;31m \u001b[0mmax\u001b[0m\u001b[0;34m(\u001b[0m\u001b[0ma\u001b[0m\u001b[0;34m,\u001b[0m \u001b[0mkey\u001b[0m\u001b[0;34m=\u001b[0m\u001b[0;32mlambda\u001b[0m \u001b[0mx\u001b[0m\u001b[0;34m:\u001b[0m \u001b[0mcard_numbers\u001b[0m\u001b[0;34m[\u001b[0m\u001b[0ma\u001b[0m\u001b[0;34m[\u001b[0m\u001b[0mx\u001b[0m\u001b[0;34m]\u001b[0m\u001b[0;34m]\u001b[0m\u001b[0;34m)\u001b[0m\u001b[0;34m\u001b[0m\u001b[0;34m\u001b[0m\u001b[0m\n\u001b[0m",
            "\u001b[0;32m<ipython-input-19-fb8b165ef0a2>\u001b[0m in \u001b[0;36m<lambda>\u001b[0;34m(x)\u001b[0m\n\u001b[1;32m      1\u001b[0m \u001b[0ma\u001b[0m \u001b[0;34m=\u001b[0m \u001b[0;34m{\u001b[0m\u001b[0;34m'player2'\u001b[0m\u001b[0;34m:\u001b[0m \u001b[0;34m'K'\u001b[0m\u001b[0;34m,\u001b[0m \u001b[0;34m'player3'\u001b[0m\u001b[0;34m:\u001b[0m \u001b[0;34m'K'\u001b[0m\u001b[0;34m}\u001b[0m\u001b[0;34m\u001b[0m\u001b[0;34m\u001b[0m\u001b[0m\n\u001b[0;32m----> 2\u001b[0;31m \u001b[0mmax\u001b[0m\u001b[0;34m(\u001b[0m\u001b[0ma\u001b[0m\u001b[0;34m,\u001b[0m \u001b[0mkey\u001b[0m\u001b[0;34m=\u001b[0m\u001b[0;32mlambda\u001b[0m \u001b[0mx\u001b[0m\u001b[0;34m:\u001b[0m \u001b[0mcard_numbers\u001b[0m\u001b[0;34m[\u001b[0m\u001b[0ma\u001b[0m\u001b[0;34m[\u001b[0m\u001b[0mx\u001b[0m\u001b[0;34m]\u001b[0m\u001b[0;34m]\u001b[0m\u001b[0;34m)\u001b[0m\u001b[0;34m\u001b[0m\u001b[0;34m\u001b[0m\u001b[0m\n\u001b[0m",
            "\u001b[0;31mNameError\u001b[0m: name 'card_numbers' is not defined"
          ]
        }
      ]
    },
    {
      "cell_type": "code",
      "source": [],
      "metadata": {
        "colab": {
          "base_uri": "https://localhost:8080/"
        },
        "id": "TW0yjjakSEb7",
        "outputId": "145fbda8-8c4c-4f2a-c2a9-a071108125a1"
      },
      "execution_count": null,
      "outputs": [
        {
          "output_type": "execute_result",
          "data": {
            "text/plain": [
              "2"
            ]
          },
          "metadata": {},
          "execution_count": 138
        }
      ]
    },
    {
      "cell_type": "code",
      "source": [],
      "metadata": {
        "id": "ygFmkcXISEYF"
      },
      "execution_count": null,
      "outputs": []
    },
    {
      "cell_type": "code",
      "source": [
        "card_numbers = {\n",
        "        '2':2,'3':3,'4':4,'5':5,'6':6,'7':7,'8':8,'9':9,'10':10,\n",
        "        'J':11,'Q':12,'K':13,'A':14}\n",
        "\n",
        "c = {\n",
        "    'player1' : [4, 5],\n",
        "    'player2' : [6, 7],\n",
        "    'player3' : [8, 2],\n",
        "    'player4' : [1, 1],\n",
        "}\n",
        "max(c, key=c.get)"
      ],
      "metadata": {
        "id": "_LCK7mmQpAU7",
        "colab": {
          "base_uri": "https://localhost:8080/",
          "height": 35
        },
        "outputId": "4b3a7883-c9c2-4fa6-881f-79b0d221acdb"
      },
      "execution_count": null,
      "outputs": [
        {
          "output_type": "execute_result",
          "data": {
            "text/plain": [
              "'player3'"
            ],
            "application/vnd.google.colaboratory.intrinsic+json": {
              "type": "string"
            }
          },
          "metadata": {},
          "execution_count": 135
        }
      ]
    },
    {
      "cell_type": "code",
      "source": [
        "max([1,2],[3,4])"
      ],
      "metadata": {
        "id": "rHMIsWmUpAYz",
        "colab": {
          "base_uri": "https://localhost:8080/"
        },
        "outputId": "d39f70d7-66e5-4637-f74c-1a6ff611f0b8"
      },
      "execution_count": null,
      "outputs": [
        {
          "output_type": "execute_result",
          "data": {
            "text/plain": [
              "[3, 4]"
            ]
          },
          "metadata": {},
          "execution_count": 74
        }
      ]
    },
    {
      "cell_type": "code",
      "execution_count": null,
      "metadata": {
        "colab": {
          "base_uri": "https://localhost:8080/",
          "height": 297
        },
        "id": "dhH_kWRDdgFU",
        "outputId": "17aa6235-6532-4aa6-8427-a6552d83b073"
      },
      "outputs": [
        {
          "output_type": "error",
          "ename": "ValueError",
          "evalue": "['C5', 'C9', 'CK', 'CA', 'CK', 'CA', 'CK', 'CA', 'CK', 'CA'] is not in list",
          "traceback": [
            "\u001b[0;31m---------------------------------------------------------------------------\u001b[0m",
            "\u001b[0;31mValueError\u001b[0m                                Traceback (most recent call last)",
            "\u001b[0;32m<ipython-input-17-e664307e70c8>\u001b[0m in \u001b[0;36m<cell line: 8>\u001b[0;34m()\u001b[0m\n\u001b[1;32m      6\u001b[0m   \u001b[0mwinner\u001b[0m \u001b[0;34m=\u001b[0m \u001b[0;34m[\u001b[0m\u001b[0mk\u001b[0m \u001b[0;32mfor\u001b[0m \u001b[0mk\u001b[0m\u001b[0;34m,\u001b[0m\u001b[0mv\u001b[0m \u001b[0;32min\u001b[0m \u001b[0mcards\u001b[0m\u001b[0;34m.\u001b[0m\u001b[0mitems\u001b[0m\u001b[0;34m(\u001b[0m\u001b[0;34m)\u001b[0m \u001b[0;32mif\u001b[0m \u001b[0mmax_card\u001b[0m \u001b[0;32min\u001b[0m \u001b[0mv\u001b[0m\u001b[0;34m]\u001b[0m\u001b[0;34m\u001b[0m\u001b[0;34m\u001b[0m\u001b[0m\n\u001b[1;32m      7\u001b[0m   \u001b[0;32mreturn\u001b[0m \u001b[0mwinner\u001b[0m\u001b[0;34m\u001b[0m\u001b[0;34m\u001b[0m\u001b[0m\n\u001b[0;32m----> 8\u001b[0;31m \u001b[0mhigh_card\u001b[0m\u001b[0;34m(\u001b[0m\u001b[0mcards\u001b[0m\u001b[0;34m)\u001b[0m\u001b[0;34m\u001b[0m\u001b[0;34m\u001b[0m\u001b[0m\n\u001b[0m",
            "\u001b[0;32m<ipython-input-17-e664307e70c8>\u001b[0m in \u001b[0;36mhigh_card\u001b[0;34m(cards)\u001b[0m\n\u001b[1;32m      3\u001b[0m \u001b[0;34m\u001b[0m\u001b[0m\n\u001b[1;32m      4\u001b[0m   \u001b[0mall_floor_cards\u001b[0m \u001b[0;34m=\u001b[0m \u001b[0msum\u001b[0m\u001b[0;34m(\u001b[0m\u001b[0mcards\u001b[0m\u001b[0;34m.\u001b[0m\u001b[0mvalues\u001b[0m\u001b[0;34m(\u001b[0m\u001b[0;34m)\u001b[0m\u001b[0;34m,\u001b[0m \u001b[0;34m[\u001b[0m\u001b[0;34m]\u001b[0m\u001b[0;34m)\u001b[0m\u001b[0;34m\u001b[0m\u001b[0;34m\u001b[0m\u001b[0m\n\u001b[0;32m----> 5\u001b[0;31m   \u001b[0mmax_card\u001b[0m \u001b[0;34m=\u001b[0m \u001b[0mnums\u001b[0m\u001b[0;34m.\u001b[0m\u001b[0mindex\u001b[0m\u001b[0;34m(\u001b[0m\u001b[0mall_floor_cards\u001b[0m\u001b[0;34m[\u001b[0m\u001b[0;36m1\u001b[0m\u001b[0;34m:\u001b[0m\u001b[0;34m]\u001b[0m\u001b[0;34m)\u001b[0m\u001b[0;34m\u001b[0m\u001b[0;34m\u001b[0m\u001b[0m\n\u001b[0m\u001b[1;32m      6\u001b[0m   \u001b[0mwinner\u001b[0m \u001b[0;34m=\u001b[0m \u001b[0;34m[\u001b[0m\u001b[0mk\u001b[0m \u001b[0;32mfor\u001b[0m \u001b[0mk\u001b[0m\u001b[0;34m,\u001b[0m\u001b[0mv\u001b[0m \u001b[0;32min\u001b[0m \u001b[0mcards\u001b[0m\u001b[0;34m.\u001b[0m\u001b[0mitems\u001b[0m\u001b[0;34m(\u001b[0m\u001b[0;34m)\u001b[0m \u001b[0;32mif\u001b[0m \u001b[0mmax_card\u001b[0m \u001b[0;32min\u001b[0m \u001b[0mv\u001b[0m\u001b[0;34m]\u001b[0m\u001b[0;34m\u001b[0m\u001b[0;34m\u001b[0m\u001b[0m\n\u001b[1;32m      7\u001b[0m   \u001b[0;32mreturn\u001b[0m \u001b[0mwinner\u001b[0m\u001b[0;34m\u001b[0m\u001b[0;34m\u001b[0m\u001b[0m\n",
            "\u001b[0;31mValueError\u001b[0m: ['C5', 'C9', 'CK', 'CA', 'CK', 'CA', 'CK', 'CA', 'CK', 'CA'] is not in list"
          ]
        }
      ],
      "source": [
        "# high card\n",
        "def high_card(cards):\n",
        "\n",
        "  all_floor_cards = sum(cards.values(), [])\n",
        "\n",
        "  winner = [k for k,v in cards.items() if max_card in v]\n",
        "  return winner\n",
        "high_card(cards)"
      ]
    },
    {
      "cell_type": "code",
      "execution_count": null,
      "metadata": {
        "colab": {
          "base_uri": "https://localhost:8080/"
        },
        "id": "Wu2wcwtrdgFU",
        "outputId": "d82b7a66-81e3-49e5-e41e-c5d69d5c1faa"
      },
      "outputs": [
        {
          "output_type": "execute_result",
          "data": {
            "text/plain": [
              "['C2', 'C5', 'C9', 'CK', 'CA', 'CK', 'CA', 'CK', 'CA', 'CK', 'CA']"
            ]
          },
          "metadata": {},
          "execution_count": 9
        }
      ],
      "source": []
    },
    {
      "cell_type": "code",
      "execution_count": null,
      "metadata": {
        "colab": {
          "base_uri": "https://localhost:8080/"
        },
        "id": "EsizqLicdgFV",
        "outputId": "9db673d9-24b9-4e9d-f3bc-ddc2efce34f3"
      },
      "outputs": [
        {
          "output_type": "execute_result",
          "data": {
            "text/plain": [
              "[1, 2, 3, 4, 5]"
            ]
          },
          "metadata": {},
          "execution_count": 12
        }
      ],
      "source": [
        "sum([[1,2,3],[4,5]],[])"
      ]
    },
    {
      "cell_type": "code",
      "execution_count": null,
      "metadata": {
        "id": "OhbYT5Z6dgFV"
      },
      "outputs": [],
      "source": []
    },
    {
      "cell_type": "code",
      "execution_count": null,
      "metadata": {
        "id": "WpOA8fHGdgFW"
      },
      "outputs": [],
      "source": []
    },
    {
      "cell_type": "code",
      "execution_count": null,
      "metadata": {
        "id": "oQSyIKPPdgFW"
      },
      "outputs": [],
      "source": []
    },
    {
      "cell_type": "code",
      "execution_count": null,
      "metadata": {
        "id": "6ZyVTAiEdgFW"
      },
      "outputs": [],
      "source": []
    },
    {
      "cell_type": "code",
      "execution_count": null,
      "metadata": {
        "id": "i6NZEfkKdgFW"
      },
      "outputs": [],
      "source": []
    },
    {
      "cell_type": "code",
      "execution_count": null,
      "metadata": {
        "id": "3QPEep71dgFW"
      },
      "outputs": [],
      "source": []
    },
    {
      "cell_type": "code",
      "execution_count": null,
      "metadata": {
        "id": "DKMMgDANdgFW"
      },
      "outputs": [],
      "source": []
    },
    {
      "cell_type": "code",
      "execution_count": null,
      "metadata": {
        "id": "kQ5K5HxYdgFX"
      },
      "outputs": [],
      "source": []
    },
    {
      "cell_type": "code",
      "execution_count": null,
      "metadata": {
        "id": "6yR3ShI3dgFX"
      },
      "outputs": [],
      "source": []
    },
    {
      "cell_type": "code",
      "execution_count": null,
      "metadata": {
        "id": "iEHdHGl0dgFX"
      },
      "outputs": [],
      "source": []
    },
    {
      "cell_type": "code",
      "execution_count": null,
      "metadata": {
        "id": "BtGubgAqdgFX"
      },
      "outputs": [],
      "source": []
    }
  ],
  "metadata": {
    "kernelspec": {
      "display_name": "Python 3",
      "language": "python",
      "name": "python3"
    },
    "language_info": {
      "codemirror_mode": {
        "name": "ipython",
        "version": 3
      },
      "file_extension": ".py",
      "mimetype": "text/x-python",
      "name": "python",
      "nbconvert_exporter": "python",
      "pygments_lexer": "ipython3",
      "version": "3.10.14"
    },
    "colab": {
      "provenance": []
    }
  },
  "nbformat": 4,
  "nbformat_minor": 0
}